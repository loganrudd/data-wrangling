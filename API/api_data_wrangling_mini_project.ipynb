{
 "cells": [
  {
   "cell_type": "markdown",
   "metadata": {},
   "source": [
    "This exercise will require you to pull some data from the Qunadl API. Qaundl is currently the most widely used aggregator of financial market data."
   ]
  },
  {
   "cell_type": "markdown",
   "metadata": {},
   "source": [
    "As a first step, you will need to register a free account on the http://www.quandl.com website."
   ]
  },
  {
   "cell_type": "markdown",
   "metadata": {},
   "source": [
    "After you register, you will be provided with a unique API key, that you should store:"
   ]
  },
  {
   "cell_type": "code",
   "execution_count": 1,
   "metadata": {},
   "outputs": [],
   "source": [
    "# First, import the relevant modules\n",
    "import requests\n",
    "import json\n",
    "import pandas as pd\n",
    "from pandas.io.json import json_normalize\n",
    "\n",
    "# Store the API key as a string - according to PEP8, constants are always named in all upper case\n",
    "with open('credentials.json') as key:\n",
    "    data = json.load(key)\n",
    "    API_KEY = data['API_KEY']"
   ]
  },
  {
   "cell_type": "markdown",
   "metadata": {},
   "source": [
    "Qaundl has a large number of data sources, but, unfortunately, most of them require a Premium subscription. Still, there are also a good number of free datasets."
   ]
  },
  {
   "cell_type": "markdown",
   "metadata": {},
   "source": [
    "For this mini project, we will focus on equities data from the Frankfurt Stock Exhange (FSE), which is available for free. We'll try and analyze the stock prices of a company called Carl Zeiss Meditec, which manufactures tools for eye examinations, as well as medical lasers for laser eye surgery: https://www.zeiss.com/meditec/int/home.html. The company is listed under the stock ticker AFX_X."
   ]
  },
  {
   "cell_type": "markdown",
   "metadata": {},
   "source": [
    "You can find the detailed Quandl API instructions here: https://docs.quandl.com/docs/time-series"
   ]
  },
  {
   "cell_type": "markdown",
   "metadata": {},
   "source": [
    "While there is a dedicated Python package for connecting to the Quandl API, we would prefer that you use the *requests* package, which can be easily downloaded using *pip* or *conda*. You can find the documentation for the package here: http://docs.python-requests.org/en/master/ "
   ]
  },
  {
   "cell_type": "markdown",
   "metadata": {},
   "source": [
    "Finally, apart from the *requests* package, you are encouraged to not use any third party Python packages, such as *pandas*, and instead focus on what's available in the Python Standard Library (the *collections* module might come in handy: https://pymotw.com/3/collections/).\n",
    "Also, since you won't have access to DataFrames, you are encouraged to us Python's native data structures - preferably dictionaries, though some questions can also be answered using lists.\n",
    "You can read more on these data structures here: https://docs.python.org/3/tutorial/datastructures.html"
   ]
  },
  {
   "cell_type": "markdown",
   "metadata": {},
   "source": [
    "Keep in mind that the JSON responses you will be getting from the API map almost one-to-one to Python's dictionaries. Unfortunately, they can be very nested, so make sure you read up on indexing dictionaries in the documentation provided above."
   ]
  },
  {
   "cell_type": "code",
   "execution_count": 2,
   "metadata": {},
   "outputs": [
    {
     "data": {
      "text/plain": [
       "['2019-01-02', None, 70.85, 68.25, 69.85, None, None, None, None, None, None]"
      ]
     },
     "execution_count": 2,
     "metadata": {},
     "output_type": "execute_result"
    }
   ],
   "source": [
    "# Now, call the Quandl API and pull out a small sample of the data (only one day) to get a glimpse\n",
    "# into the JSON structure that will be returned\n",
    "url = \"https://www.quandl.com/api/v3/datasets/FSE/AFX_X/data.json?api_key={}\".format(API_KEY)\n",
    "requests.get(url).json()['dataset_data']['data'][0]"
   ]
  },
  {
   "cell_type": "code",
   "execution_count": null,
   "metadata": {},
   "outputs": [],
   "source": [
    "# Inspect the JSON structure of the object you created, and take note of how nested it is,\n",
    "# as well as the overall structure\n",
    "requests.get(url).json()"
   ]
  },
  {
   "cell_type": "markdown",
   "metadata": {},
   "source": [
    "These are your tasks for this mini project:\n",
    "\n",
    "1. Collect data from the Franfurt Stock Exchange, for the ticker AFX_X, for the whole year 2017 (keep in mind that the date format is YYYY-MM-DD).\n",
    "2. Convert the returned JSON object into a Python dictionary.\n",
    "3. Calculate what the highest and lowest opening prices were for the stock in this period.\n",
    "4. What was the largest change in any one day (based on High and Low price)?\n",
    "5. What was the largest change between any two days (based on Closing Price)?\n",
    "6. What was the average daily trading volume during this year?\n",
    "7. (Optional) What was the median trading volume during this year. (Note: you may need to implement your own function for calculating the median.)"
   ]
  },
  {
   "cell_type": "markdown",
   "metadata": {},
   "source": [
    "##### 1. Collect data from the Franfurt Stock Exchange, for the ticker AFX_X, for the whole year 2017 (keep in mind that the date format is YYYY-MM-DD)."
   ]
  },
  {
   "cell_type": "code",
   "execution_count": 4,
   "metadata": {},
   "outputs": [],
   "source": [
    "meditec_equities = requests.get(url).json()['dataset_data']['data']"
   ]
  },
  {
   "cell_type": "markdown",
   "metadata": {},
   "source": [
    "##### 2. Convert the returned JSON object into a Python dictionary."
   ]
  },
  {
   "cell_type": "code",
   "execution_count": 5,
   "metadata": {},
   "outputs": [],
   "source": [
    "# creates dictionary of 2017 data from JSON object\n",
    "mt_2017_equities_dict = {}\n",
    "for entry in meditec_equities:\n",
    "    if '2017' in entry[0]:\n",
    "        mt_2017_equities_dict[entry[0]] = {}\n",
    "        mt_2017_equities_dict[entry[0]]['Open'] = entry[1]\n",
    "        mt_2017_equities_dict[entry[0]]['High'] = entry[2]\n",
    "        mt_2017_equities_dict[entry[0]]['Low'] = entry[3]\n",
    "        mt_2017_equities_dict[entry[0]]['Close'] = entry[4]\n",
    "        mt_2017_equities_dict[entry[0]]['Change'] = entry[5]\n",
    "        mt_2017_equities_dict[entry[0]]['Traded Volume'] = entry[6]\n",
    "        mt_2017_equities_dict[entry[0]]['Turnover'] = entry[7]\n",
    "        mt_2017_equities_dict[entry[0]]['Last Price of the Day'] = entry[8]\n",
    "        mt_2017_equities_dict[entry[0]]['Daily Traded Units'] = entry[9]\n",
    "        mt_2017_equities_dict[entry[0]]['Daily Turnover'] = entry[10]"
   ]
  },
  {
   "cell_type": "code",
   "execution_count": 14,
   "metadata": {},
   "outputs": [
    {
     "data": {
      "text/html": [
       "<div>\n",
       "<style scoped>\n",
       "    .dataframe tbody tr th:only-of-type {\n",
       "        vertical-align: middle;\n",
       "    }\n",
       "\n",
       "    .dataframe tbody tr th {\n",
       "        vertical-align: top;\n",
       "    }\n",
       "\n",
       "    .dataframe thead th {\n",
       "        text-align: right;\n",
       "    }\n",
       "</style>\n",
       "<table border=\"1\" class=\"dataframe\">\n",
       "  <thead>\n",
       "    <tr style=\"text-align: right;\">\n",
       "      <th></th>\n",
       "      <th>Change</th>\n",
       "      <th>Close</th>\n",
       "      <th>Daily Traded Units</th>\n",
       "      <th>Daily Turnover</th>\n",
       "      <th>High</th>\n",
       "      <th>Last Price of the Day</th>\n",
       "      <th>Low</th>\n",
       "      <th>Open</th>\n",
       "      <th>Traded Volume</th>\n",
       "      <th>Turnover</th>\n",
       "    </tr>\n",
       "  </thead>\n",
       "  <tbody>\n",
       "    <tr>\n",
       "      <th>2017-12-29</th>\n",
       "      <td>NaN</td>\n",
       "      <td>51.76</td>\n",
       "      <td>NaN</td>\n",
       "      <td>NaN</td>\n",
       "      <td>51.94</td>\n",
       "      <td>NaN</td>\n",
       "      <td>51.45</td>\n",
       "      <td>51.76</td>\n",
       "      <td>34640.0</td>\n",
       "      <td>1792304.0</td>\n",
       "    </tr>\n",
       "    <tr>\n",
       "      <th>2017-12-28</th>\n",
       "      <td>NaN</td>\n",
       "      <td>51.60</td>\n",
       "      <td>NaN</td>\n",
       "      <td>NaN</td>\n",
       "      <td>51.82</td>\n",
       "      <td>NaN</td>\n",
       "      <td>51.43</td>\n",
       "      <td>51.65</td>\n",
       "      <td>40660.0</td>\n",
       "      <td>2099024.0</td>\n",
       "    </tr>\n",
       "    <tr>\n",
       "      <th>2017-12-27</th>\n",
       "      <td>NaN</td>\n",
       "      <td>51.82</td>\n",
       "      <td>NaN</td>\n",
       "      <td>NaN</td>\n",
       "      <td>51.89</td>\n",
       "      <td>NaN</td>\n",
       "      <td>50.76</td>\n",
       "      <td>51.45</td>\n",
       "      <td>57452.0</td>\n",
       "      <td>2957018.0</td>\n",
       "    </tr>\n",
       "    <tr>\n",
       "      <th>2017-12-22</th>\n",
       "      <td>NaN</td>\n",
       "      <td>51.32</td>\n",
       "      <td>NaN</td>\n",
       "      <td>NaN</td>\n",
       "      <td>51.50</td>\n",
       "      <td>NaN</td>\n",
       "      <td>50.92</td>\n",
       "      <td>51.05</td>\n",
       "      <td>71165.0</td>\n",
       "      <td>3641949.0</td>\n",
       "    </tr>\n",
       "    <tr>\n",
       "      <th>2017-12-21</th>\n",
       "      <td>NaN</td>\n",
       "      <td>51.40</td>\n",
       "      <td>NaN</td>\n",
       "      <td>NaN</td>\n",
       "      <td>51.52</td>\n",
       "      <td>NaN</td>\n",
       "      <td>50.90</td>\n",
       "      <td>51.16</td>\n",
       "      <td>120649.0</td>\n",
       "      <td>6179433.0</td>\n",
       "    </tr>\n",
       "  </tbody>\n",
       "</table>\n",
       "</div>"
      ],
      "text/plain": [
       "            Change  Close  Daily Traded Units  Daily Turnover   High  \\\n",
       "2017-12-29     NaN  51.76                 NaN             NaN  51.94   \n",
       "2017-12-28     NaN  51.60                 NaN             NaN  51.82   \n",
       "2017-12-27     NaN  51.82                 NaN             NaN  51.89   \n",
       "2017-12-22     NaN  51.32                 NaN             NaN  51.50   \n",
       "2017-12-21     NaN  51.40                 NaN             NaN  51.52   \n",
       "\n",
       "            Last Price of the Day    Low   Open  Traded Volume   Turnover  \n",
       "2017-12-29                    NaN  51.45  51.76        34640.0  1792304.0  \n",
       "2017-12-28                    NaN  51.43  51.65        40660.0  2099024.0  \n",
       "2017-12-27                    NaN  50.76  51.45        57452.0  2957018.0  \n",
       "2017-12-22                    NaN  50.92  51.05        71165.0  3641949.0  \n",
       "2017-12-21                    NaN  50.90  51.16       120649.0  6179433.0  "
      ]
     },
     "execution_count": 14,
     "metadata": {},
     "output_type": "execute_result"
    }
   ],
   "source": [
    "# now let's make a dataframe out of the dictionary to answer the questions\n",
    "df_eqts17 = pd.DataFrame.from_dict(mt_2017_equities_dict).transpose()\n",
    "df_eqts17.head()"
   ]
  },
  {
   "cell_type": "markdown",
   "metadata": {},
   "source": [
    "##### 3. Calculate what the highest and lowest opening prices were for the stock in this period."
   ]
  },
  {
   "cell_type": "code",
   "execution_count": 25,
   "metadata": {},
   "outputs": [
    {
     "name": "stdout",
     "output_type": "stream",
     "text": [
      "Highest opening price (2017): $53.11\n",
      "Lowest opening price (2017): $34.00\n"
     ]
    }
   ],
   "source": [
    "open_min = df_eqts17['Open'].min()\n",
    "open_max = df_eqts17['Open'].max()\n",
    "print('Highest opening price (2017): ${:.2f}'.format(open_max))\n",
    "print('Lowest opening price (2017): ${:.2f}'.format(open_min))"
   ]
  },
  {
   "cell_type": "markdown",
   "metadata": {},
   "source": [
    "##### 4. What was the largest change in any one day (based on High and Low price)?"
   ]
  },
  {
   "cell_type": "code",
   "execution_count": 16,
   "metadata": {},
   "outputs": [
    {
     "data": {
      "text/html": [
       "<div>\n",
       "<style scoped>\n",
       "    .dataframe tbody tr th:only-of-type {\n",
       "        vertical-align: middle;\n",
       "    }\n",
       "\n",
       "    .dataframe tbody tr th {\n",
       "        vertical-align: top;\n",
       "    }\n",
       "\n",
       "    .dataframe thead th {\n",
       "        text-align: right;\n",
       "    }\n",
       "</style>\n",
       "<table border=\"1\" class=\"dataframe\">\n",
       "  <thead>\n",
       "    <tr style=\"text-align: right;\">\n",
       "      <th></th>\n",
       "      <th>Open</th>\n",
       "      <th>High</th>\n",
       "      <th>Low</th>\n",
       "      <th>Close</th>\n",
       "      <th>Change</th>\n",
       "      <th>Traded Volume</th>\n",
       "      <th>Turnover</th>\n",
       "      <th>Last Price of the Day</th>\n",
       "      <th>Daily Traded Units</th>\n",
       "      <th>Daily Turnover</th>\n",
       "    </tr>\n",
       "    <tr>\n",
       "      <th>Date</th>\n",
       "      <th></th>\n",
       "      <th></th>\n",
       "      <th></th>\n",
       "      <th></th>\n",
       "      <th></th>\n",
       "      <th></th>\n",
       "      <th></th>\n",
       "      <th></th>\n",
       "      <th></th>\n",
       "      <th></th>\n",
       "    </tr>\n",
       "  </thead>\n",
       "  <tbody>\n",
       "    <tr>\n",
       "      <th>2019-01-04 00:00:00+00:00</th>\n",
       "      <td>NaN</td>\n",
       "      <td>71.00</td>\n",
       "      <td>68.80</td>\n",
       "      <td>70.75</td>\n",
       "      <td>NaN</td>\n",
       "      <td>NaN</td>\n",
       "      <td>NaN</td>\n",
       "      <td>None</td>\n",
       "      <td>None</td>\n",
       "      <td>NaN</td>\n",
       "    </tr>\n",
       "    <tr>\n",
       "      <th>2019-01-03 00:00:00+00:00</th>\n",
       "      <td>NaN</td>\n",
       "      <td>69.35</td>\n",
       "      <td>67.75</td>\n",
       "      <td>68.50</td>\n",
       "      <td>NaN</td>\n",
       "      <td>NaN</td>\n",
       "      <td>NaN</td>\n",
       "      <td>None</td>\n",
       "      <td>None</td>\n",
       "      <td>NaN</td>\n",
       "    </tr>\n",
       "    <tr>\n",
       "      <th>2019-01-02 00:00:00+00:00</th>\n",
       "      <td>NaN</td>\n",
       "      <td>70.85</td>\n",
       "      <td>68.25</td>\n",
       "      <td>69.85</td>\n",
       "      <td>NaN</td>\n",
       "      <td>NaN</td>\n",
       "      <td>NaN</td>\n",
       "      <td>None</td>\n",
       "      <td>None</td>\n",
       "      <td>NaN</td>\n",
       "    </tr>\n",
       "    <tr>\n",
       "      <th>2018-12-28 00:00:00+00:00</th>\n",
       "      <td>NaN</td>\n",
       "      <td>68.80</td>\n",
       "      <td>67.75</td>\n",
       "      <td>68.30</td>\n",
       "      <td>NaN</td>\n",
       "      <td>NaN</td>\n",
       "      <td>NaN</td>\n",
       "      <td>None</td>\n",
       "      <td>None</td>\n",
       "      <td>NaN</td>\n",
       "    </tr>\n",
       "    <tr>\n",
       "      <th>2018-12-27 00:00:00+00:00</th>\n",
       "      <td>NaN</td>\n",
       "      <td>70.65</td>\n",
       "      <td>67.85</td>\n",
       "      <td>68.25</td>\n",
       "      <td>NaN</td>\n",
       "      <td>NaN</td>\n",
       "      <td>NaN</td>\n",
       "      <td>None</td>\n",
       "      <td>None</td>\n",
       "      <td>NaN</td>\n",
       "    </tr>\n",
       "  </tbody>\n",
       "</table>\n",
       "</div>"
      ],
      "text/plain": [
       "                           Open   High    Low  Close  Change  Traded Volume  \\\n",
       "Date                                                                          \n",
       "2019-01-04 00:00:00+00:00   NaN  71.00  68.80  70.75     NaN            NaN   \n",
       "2019-01-03 00:00:00+00:00   NaN  69.35  67.75  68.50     NaN            NaN   \n",
       "2019-01-02 00:00:00+00:00   NaN  70.85  68.25  69.85     NaN            NaN   \n",
       "2018-12-28 00:00:00+00:00   NaN  68.80  67.75  68.30     NaN            NaN   \n",
       "2018-12-27 00:00:00+00:00   NaN  70.65  67.85  68.25     NaN            NaN   \n",
       "\n",
       "                           Turnover Last Price of the Day Daily Traded Units  \\\n",
       "Date                                                                           \n",
       "2019-01-04 00:00:00+00:00       NaN                  None               None   \n",
       "2019-01-03 00:00:00+00:00       NaN                  None               None   \n",
       "2019-01-02 00:00:00+00:00       NaN                  None               None   \n",
       "2018-12-28 00:00:00+00:00       NaN                  None               None   \n",
       "2018-12-27 00:00:00+00:00       NaN                  None               None   \n",
       "\n",
       "                           Daily Turnover  \n",
       "Date                                       \n",
       "2019-01-04 00:00:00+00:00             NaN  \n",
       "2019-01-03 00:00:00+00:00             NaN  \n",
       "2019-01-02 00:00:00+00:00             NaN  \n",
       "2018-12-28 00:00:00+00:00             NaN  \n",
       "2018-12-27 00:00:00+00:00             NaN  "
      ]
     },
     "execution_count": 16,
     "metadata": {},
     "output_type": "execute_result"
    }
   ],
   "source": [
    "# first lets create a dataframe from the json object for the meditec equity for all years\n",
    "df_eqts = json_normalize(requests.get(url).json()['dataset_data'], 'data')\n",
    "df_eqts.columns = requests.get(url).json()['dataset_data']['column_names']\n",
    "df_eqts['Date'] = pd.to_datetime(df_eqts['Date'], format='%Y/%m/%d', utc=True)\n",
    "df_eqts.set_index('Date', inplace=True)\n",
    "df_eqts.head()"
   ]
  },
  {
   "cell_type": "code",
   "execution_count": 13,
   "metadata": {},
   "outputs": [
    {
     "name": "stdout",
     "output_type": "stream",
     "text": [
      "Largest change between high and low price in a single day (all years): $7.70\n"
     ]
    }
   ],
   "source": [
    "largest_daily_change = (df_eqts18['High'] - df_eqts18['Low']).max()\n",
    "print('Largest change between high and low price in a single day (all years): ${:.2f}'.format(largest_daily_change))"
   ]
  },
  {
   "cell_type": "markdown",
   "metadata": {},
   "source": [
    "##### 5. What was the largest change between any two days (based on Closing Price)?"
   ]
  },
  {
   "cell_type": "code",
   "execution_count": 22,
   "metadata": {},
   "outputs": [
    {
     "name": "stdout",
     "output_type": "stream",
     "text": [
      "Largest change in closing price between two days (all years): $7.00\n"
     ]
    }
   ],
   "source": [
    "largest_bidaily_change = abs(mt_equities_df['Close']-mt_equities_df['Close'].shift(1)).max()\n",
    "print('Largest change in closing price between two days (all years): ${:.2f}'.format(largest_bidaily_change))"
   ]
  },
  {
   "cell_type": "markdown",
   "metadata": {},
   "source": [
    "##### 6. What was the average daily trading volume during this year (2018)?"
   ]
  },
  {
   "cell_type": "code",
   "execution_count": 23,
   "metadata": {},
   "outputs": [
    {
     "name": "stdout",
     "output_type": "stream",
     "text": [
      "The average daily trading volume for 2018 is: $95563.47\n"
     ]
    }
   ],
   "source": [
    "df_eqts18 = mt_equities_df.loc['2018']\n",
    "daily_avg = df_eqts18['Traded Volume'].sum()/len(df_eqts18['Traded Volume'])\n",
    "print('The average daily trading volume for 2018 is: ${:.2f}'.format(daily_avg))"
   ]
  },
  {
   "cell_type": "markdown",
   "metadata": {},
   "source": [
    "##### 7. (Optional) What was the median trading volume during this year. (Note: you may need to implement your own function for calculating the median.)"
   ]
  },
  {
   "cell_type": "code",
   "execution_count": 24,
   "metadata": {},
   "outputs": [
    {
     "name": "stdout",
     "output_type": "stream",
     "text": [
      "The median trading volume for 2018 is: $85255.50\n"
     ]
    }
   ],
   "source": [
    "med_vol = mt_2018_equities_df['Traded Volume'].median()\n",
    "print('The median trading volume for 2018 is: ${:.2f}'.format(med_vol))"
   ]
  }
 ],
 "metadata": {
  "kernelspec": {
   "display_name": "Python 3",
   "language": "python",
   "name": "python3"
  },
  "language_info": {
   "codemirror_mode": {
    "name": "ipython",
    "version": 3
   },
   "file_extension": ".py",
   "mimetype": "text/x-python",
   "name": "python",
   "nbconvert_exporter": "python",
   "pygments_lexer": "ipython3",
   "version": "3.6.7"
  }
 },
 "nbformat": 4,
 "nbformat_minor": 2
}
